{
 "cells": [
  {
   "cell_type": "code",
   "execution_count": 32,
   "metadata": {},
   "outputs": [],
   "source": [
    "import pandas as pd\n",
    "\n",
    "# reading csv file \n",
    "df = pd.read_csv(\"./results/microsoft_vsts-extension-samples_matches_20250205_172018.csv\")"
   ]
  },
  {
   "cell_type": "code",
   "execution_count": 26,
   "metadata": {},
   "outputs": [
    {
     "data": {
      "text/html": [
       "<div>\n",
       "<style scoped>\n",
       "    .dataframe tbody tr th:only-of-type {\n",
       "        vertical-align: middle;\n",
       "    }\n",
       "\n",
       "    .dataframe tbody tr th {\n",
       "        vertical-align: top;\n",
       "    }\n",
       "\n",
       "    .dataframe thead th {\n",
       "        text-align: right;\n",
       "    }\n",
       "</style>\n",
       "<table border=\"1\" class=\"dataframe\">\n",
       "  <thead>\n",
       "    <tr style=\"text-align: right;\">\n",
       "      <th></th>\n",
       "      <th>Hash</th>\n",
       "      <th>Project ID</th>\n",
       "      <th>Method Name</th>\n",
       "      <th>File Location</th>\n",
       "      <th>Function Code</th>\n",
       "      <th>Repository URL</th>\n",
       "    </tr>\n",
       "  </thead>\n",
       "  <tbody>\n",
       "    <tr>\n",
       "      <th>0</th>\n",
       "      <td>724f7f75c590ba9b7ea4e40960b34d3a</td>\n",
       "      <td>2124245455</td>\n",
       "      <td>__extends</td>\n",
       "      <td>./ui/menu/scripts/context.js:1</td>\n",
       "      <td>Code not available</td>\n",
       "      <td>https://github.com/microsoft/vsts-extension-sa...</td>\n",
       "    </tr>\n",
       "    <tr>\n",
       "      <th>1</th>\n",
       "      <td>724f7f75c590ba9b7ea4e40960b34d3a</td>\n",
       "      <td>2124245455</td>\n",
       "      <td>__extends</td>\n",
       "      <td>./ui/menu/scripts/dropDown.js:1</td>\n",
       "      <td>Code not available</td>\n",
       "      <td>NaN</td>\n",
       "    </tr>\n",
       "    <tr>\n",
       "      <th>2</th>\n",
       "      <td>724f7f75c590ba9b7ea4e40960b34d3a</td>\n",
       "      <td>2124245455</td>\n",
       "      <td>__extends</td>\n",
       "      <td>./ui/menu/scripts/itemView.js:1</td>\n",
       "      <td>Code not available</td>\n",
       "      <td>NaN</td>\n",
       "    </tr>\n",
       "    <tr>\n",
       "      <th>3</th>\n",
       "      <td>724f7f75c590ba9b7ea4e40960b34d3a</td>\n",
       "      <td>14574441</td>\n",
       "      <td>__extends in project name: Iridium</td>\n",
       "      <td>benchmarks/mongodb.js:1</td>\n",
       "      <td>var __extends = this.__extends || function (d,...</td>\n",
       "      <td>https://github.com/SierraSoftworks/Iridium/blo...</td>\n",
       "    </tr>\n",
       "    <tr>\n",
       "      <th>4</th>\n",
       "      <td>724f7f75c590ba9b7ea4e40960b34d3a</td>\n",
       "      <td>14574441</td>\n",
       "      <td>__extends in project name: Iridium</td>\n",
       "      <td>example/IntelliSense.js:1</td>\n",
       "      <td>var __extends = this.__extends || function (d,...</td>\n",
       "      <td>https://github.com/SierraSoftworks/Iridium/blo...</td>\n",
       "    </tr>\n",
       "  </tbody>\n",
       "</table>\n",
       "</div>"
      ],
      "text/plain": [
       "                               Hash  Project ID  \\\n",
       "0  724f7f75c590ba9b7ea4e40960b34d3a  2124245455   \n",
       "1  724f7f75c590ba9b7ea4e40960b34d3a  2124245455   \n",
       "2  724f7f75c590ba9b7ea4e40960b34d3a  2124245455   \n",
       "3  724f7f75c590ba9b7ea4e40960b34d3a    14574441   \n",
       "4  724f7f75c590ba9b7ea4e40960b34d3a    14574441   \n",
       "\n",
       "                          Method Name                    File Location  \\\n",
       "0                           __extends   ./ui/menu/scripts/context.js:1   \n",
       "1                           __extends  ./ui/menu/scripts/dropDown.js:1   \n",
       "2                           __extends  ./ui/menu/scripts/itemView.js:1   \n",
       "3  __extends in project name: Iridium          benchmarks/mongodb.js:1   \n",
       "4  __extends in project name: Iridium        example/IntelliSense.js:1   \n",
       "\n",
       "                                       Function Code  \\\n",
       "0                                 Code not available   \n",
       "1                                 Code not available   \n",
       "2                                 Code not available   \n",
       "3  var __extends = this.__extends || function (d,...   \n",
       "4  var __extends = this.__extends || function (d,...   \n",
       "\n",
       "                                      Repository URL  \n",
       "0  https://github.com/microsoft/vsts-extension-sa...  \n",
       "1                                                NaN  \n",
       "2                                                NaN  \n",
       "3  https://github.com/SierraSoftworks/Iridium/blo...  \n",
       "4  https://github.com/SierraSoftworks/Iridium/blo...  "
      ]
     },
     "execution_count": 26,
     "metadata": {},
     "output_type": "execute_result"
    }
   ],
   "source": [
    "df.head()"
   ]
  },
  {
   "cell_type": "code",
   "execution_count": 27,
   "metadata": {},
   "outputs": [
    {
     "data": {
      "text/plain": [
       "Hash              335\n",
       "Project ID        335\n",
       "Method Name       332\n",
       "File Location     335\n",
       "Function Code     335\n",
       "Repository URL    333\n",
       "dtype: int64"
      ]
     },
     "execution_count": 27,
     "metadata": {},
     "output_type": "execute_result"
    }
   ],
   "source": [
    "df.count()"
   ]
  },
  {
   "cell_type": "code",
   "execution_count": 33,
   "metadata": {},
   "outputs": [
    {
     "name": "stdout",
     "output_type": "stream",
     "text": [
      "Maximum common hashes are between Project ID 136711197 and 572489387 with 4 common hashes.\n",
      "Common Hash Values:\n",
      "{'9d10cc11ff6b2be75b60d52f53ae9bf9', '724f7f75c590ba9b7ea4e40960b34d3a', 'eb0ac83e852fc684b733fa600f7670ad', 'dda100f3a4ec83ac9d17fc83a28f8c99'}\n"
     ]
    }
   ],
   "source": [
    "import pandas as pd\n",
    "from itertools import combinations\n",
    "\n",
    "\n",
    "df = pd.read_csv(\"./results/microsoft_vsts-extension-samples_matches_20250205_172018.csv\")\n",
    "\n",
    "# Create a dictionary mapping each Project ID to a set of Hash values\n",
    "project_hashes = df.groupby(\"Project ID\")[\"Hash\"].apply(set).to_dict()\n",
    "\n",
    "# Compute the intersection between each pair of projects\n",
    "commonality = {}\n",
    "\n",
    "for (proj1, hashes1), (proj2, hashes2) in combinations(project_hashes.items(), 2):\n",
    "    intersection = hashes1.intersection(hashes2)\n",
    "    commonality[(proj1, proj2)] = (len(intersection), intersection)\n",
    "\n",
    "# Find the pair with the maximum commonality\n",
    "max_pair = max(commonality, key=lambda k: commonality[k][0])\n",
    "max_common_count, max_common_hashes = commonality[max_pair]\n",
    "\n",
    "# Print results\n",
    "print(f\"Maximum common hashes are between Project ID {max_pair[0]} and {max_pair[1]} with {max_common_count} common hashes.\")\n",
    "print(\"Common Hash Values:\")\n",
    "print(max_common_hashes)"
   ]
  },
  {
   "cell_type": "code",
   "execution_count": 7,
   "metadata": {},
   "outputs": [],
   "source": [
    "variant={}\n",
    "variant['method_name'] =\"OnLaunched in project name: FFmpegInterop, project ID: 32757543, Version: 1686252406000, License: Apache License 2.0\""
   ]
  },
  {
   "cell_type": "code",
   "execution_count": 13,
   "metadata": {},
   "outputs": [],
   "source": [
    "method_name = variant['method_name'].split(',')[0].split(':')[1].strip()\n",
    "method_id = variant['method_name'].split(',')[1].split(':')[1].strip()\n",
    "method_version = variant['method_name'].split(',')[2].split(':')[1].strip()\n",
    "method_license = variant['method_name'].split(',')[3].split(':')[1].strip()"
   ]
  },
  {
   "cell_type": "code",
   "execution_count": 17,
   "metadata": {},
   "outputs": [
    {
     "data": {
      "text/plain": [
       "'Apache License 2.0'"
      ]
     },
     "execution_count": 17,
     "metadata": {},
     "output_type": "execute_result"
    }
   ],
   "source": [
    "method_license"
   ]
  },
  {
   "cell_type": "code",
   "execution_count": 1,
   "metadata": {},
   "outputs": [
    {
     "name": "stdout",
     "output_type": "stream",
     "text": [
      "License: MIT\n",
      "Latest Release Version: No Releases Found\n"
     ]
    }
   ],
   "source": [
    "import requests\n",
    "\n",
    "def get_github_repo_info(owner, repo):\n",
    "    base_url = \"https://api.github.com/repos/{}/{}\".format(owner, repo)\n",
    "    \n",
    "    # Get License Information\n",
    "    license_url = f\"{base_url}/license\"\n",
    "    license_response = requests.get(license_url)\n",
    "    license_info = license_response.json().get(\"license\", {}).get(\"spdx_id\", \"Not Found\")\n",
    "    \n",
    "    # Get Latest Release Version\n",
    "    releases_url = f\"{base_url}/releases/latest\"\n",
    "    release_response = requests.get(releases_url)\n",
    "    release_info = release_response.json().get(\"tag_name\", \"No Releases Found\")\n",
    "    \n",
    "    return license_info, release_info\n",
    "\n",
    "if __name__ == \"__main__\":\n",
    "    owner = \"microsoft\"\n",
    "    repo = \"Microsoft.Diagnostics.Tracing.Logging\"\n",
    "    \n",
    "    license_info, latest_version = get_github_repo_info(owner, repo)\n",
    "    \n",
    "    print(f\"License: {license_info}\")\n",
    "    print(f\"Latest Release Version: {latest_version}\")"
   ]
  },
  {
   "cell_type": "code",
   "execution_count": 2,
   "metadata": {},
   "outputs": [
    {
     "name": "stdout",
     "output_type": "stream",
     "text": [
      "License: MIT\n",
      "Latest Release Version / First Commit Date: 2022-11-28T19:14:32Z\n"
     ]
    }
   ],
   "source": [
    "import requests\n",
    "\n",
    "def get_github_repo_info(owner, repo):\n",
    "    base_url = \"https://api.github.com/repos/{}/{}\".format(owner, repo)\n",
    "    \n",
    "    # Get License Information\n",
    "    license_url = f\"{base_url}/license\"\n",
    "    license_response = requests.get(license_url)\n",
    "    license_info = license_response.json().get(\"license\", {}).get(\"spdx_id\", \"Not Found\")\n",
    "    \n",
    "    # Get Latest Release Version\n",
    "    releases_url = f\"{base_url}/releases/latest\"\n",
    "    release_response = requests.get(releases_url)\n",
    "    release_info = release_response.json().get(\"tag_name\")\n",
    "    \n",
    "    if not release_info:\n",
    "        # Get First Commit Date\n",
    "        commits_url = f\"{base_url}/commits?per_page=1&page=1\"\n",
    "        commits_response = requests.get(commits_url)\n",
    "        first_commit_date = commits_response.json()[0].get(\"commit\", {}).get(\"author\", {}).get(\"date\", \"No Commits Found\")\n",
    "        return license_info, first_commit_date\n",
    "    \n",
    "    return license_info, release_info\n",
    "\n",
    "if __name__ == \"__main__\":\n",
    "    owner = \"microsoft\"\n",
    "    repo = \"Microsoft.Diagnostics.Tracing.Logging\"\n",
    "    \n",
    "    license_info, version_or_commit = get_github_repo_info(owner, repo)\n",
    "    \n",
    "    print(f\"License: {license_info}\")\n",
    "    print(f\"Latest Release Version / First Commit Date: {version_or_commit}\")"
   ]
  },
  {
   "cell_type": "code",
   "execution_count": null,
   "metadata": {},
   "outputs": [
    {
     "name": "stdout",
     "output_type": "stream",
     "text": [
      "License: MIT\n",
      "Latest Release Version / First Commit Date: v2.0.9\n"
     ]
    }
   ],
   "source": [
    "import requests\n",
    "import re\n",
    "import pandas as pd\n",
    "\n",
    "def get_github_repo_info(repo_url):\n",
    "    match = re.match(r\"https://github.com/([^/]+)/([^/]+)\", repo_url)\n",
    "    if not match:\n",
    "        return \"Invalid GitHub URL\", \"Invalid GitHub URL\"\n",
    "    \n",
    "    owner, repo = match.groups()\n",
    "    base_url = f\"https://api.github.com/repos/{owner}/{repo}\"\n",
    "    \n",
    "    # Get License Information\n",
    "    license_url = f\"{base_url}/license\"\n",
    "    license_response = requests.get(license_url)\n",
    "    license_info = license_response.json().get(\"license\", {}).get(\"spdx_id\", \"Not Found\")\n",
    "    \n",
    "    # Get Latest Release Version\n",
    "    releases_url = f\"{base_url}/releases/latest\"\n",
    "    release_response = requests.get(releases_url)\n",
    "    release_info = release_response.json().get(\"tag_name\")\n",
    "    \n",
    "    if not release_info:\n",
    "        # Get First Commit Date\n",
    "        commits_url = f\"{base_url}/commits?per_page=1&page=1\"\n",
    "        commits_response = requests.get(commits_url)\n",
    "        first_commit_date = commits_response.json()[0].get(\"commit\", {}).get(\"author\", {}).get(\"date\", \"No Commits Found\")\n",
    "        return license_info, first_commit_date\n",
    "    \n",
    "    return license_info, release_info\n",
    "\n",
    "if __name__ == \"__main__\":\n",
    "    repo_url = \"https://github.com/microsoft/XamlBehaviors\"\n",
    "    \n",
    "    license_info, version_or_commit = get_github_repo_info(repo_url)\n",
    "    \n",
    "    print(f\"License: {license_info}\")\n",
    "    print(f\"Latest Release Version / First Commit Date: {version_or_commit}\")"
   ]
  },
  {
   "cell_type": "code",
   "execution_count": 22,
   "metadata": {},
   "outputs": [
    {
     "ename": "KeyError",
     "evalue": "0",
     "output_type": "error",
     "traceback": [
      "\u001b[0;31m---------------------------------------------------------------------------\u001b[0m",
      "\u001b[0;31mKeyError\u001b[0m                                  Traceback (most recent call last)",
      "Cell \u001b[0;32mIn[22], line 39\u001b[0m\n\u001b[1;32m     36\u001b[0m \u001b[38;5;28;01mif\u001b[39;00m \u001b[38;5;18m__name__\u001b[39m \u001b[38;5;241m==\u001b[39m \u001b[38;5;124m\"\u001b[39m\u001b[38;5;124m__main__\u001b[39m\u001b[38;5;124m\"\u001b[39m:\n\u001b[1;32m     37\u001b[0m     repo_url \u001b[38;5;241m=\u001b[39m \u001b[38;5;124m\"\u001b[39m\u001b[38;5;124mhttps://github.com/microsoft/XamlBehaviors\u001b[39m\u001b[38;5;124m\"\u001b[39m\n\u001b[0;32m---> 39\u001b[0m     license_info, version_or_commit, timestamp \u001b[38;5;241m=\u001b[39m \u001b[43mget_github_repo_info\u001b[49m\u001b[43m(\u001b[49m\u001b[43mrepo_url\u001b[49m\u001b[43m)\u001b[49m\n\u001b[1;32m     41\u001b[0m     \u001b[38;5;28mprint\u001b[39m(\u001b[38;5;124mf\u001b[39m\u001b[38;5;124m\"\u001b[39m\u001b[38;5;124mLicense: \u001b[39m\u001b[38;5;132;01m{\u001b[39;00mlicense_info\u001b[38;5;132;01m}\u001b[39;00m\u001b[38;5;124m\"\u001b[39m)\n\u001b[1;32m     42\u001b[0m     \u001b[38;5;28mprint\u001b[39m(\u001b[38;5;124mf\u001b[39m\u001b[38;5;124m\"\u001b[39m\u001b[38;5;124mLatest Release Version / First Commit Date: \u001b[39m\u001b[38;5;132;01m{\u001b[39;00mversion_or_commit\u001b[38;5;132;01m}\u001b[39;00m\u001b[38;5;124m\"\u001b[39m)\n",
      "Cell \u001b[0;32mIn[22], line 31\u001b[0m, in \u001b[0;36mget_github_repo_info\u001b[0;34m(repo_url)\u001b[0m\n\u001b[1;32m     29\u001b[0m     commits_url \u001b[38;5;241m=\u001b[39m \u001b[38;5;124mf\u001b[39m\u001b[38;5;124m\"\u001b[39m\u001b[38;5;132;01m{\u001b[39;00mbase_url\u001b[38;5;132;01m}\u001b[39;00m\u001b[38;5;124m/commits?per_page=1&page=1\u001b[39m\u001b[38;5;124m\"\u001b[39m\n\u001b[1;32m     30\u001b[0m     commits_response \u001b[38;5;241m=\u001b[39m requests\u001b[38;5;241m.\u001b[39mget(commits_url)\n\u001b[0;32m---> 31\u001b[0m     first_commit_date \u001b[38;5;241m=\u001b[39m \u001b[43mcommits_response\u001b[49m\u001b[38;5;241;43m.\u001b[39;49m\u001b[43mjson\u001b[49m\u001b[43m(\u001b[49m\u001b[43m)\u001b[49m\u001b[43m[\u001b[49m\u001b[38;5;241;43m0\u001b[39;49m\u001b[43m]\u001b[49m\u001b[38;5;241m.\u001b[39mget(\u001b[38;5;124m\"\u001b[39m\u001b[38;5;124mcommit\u001b[39m\u001b[38;5;124m\"\u001b[39m, {})\u001b[38;5;241m.\u001b[39mget(\u001b[38;5;124m\"\u001b[39m\u001b[38;5;124mauthor\u001b[39m\u001b[38;5;124m\"\u001b[39m, {})\u001b[38;5;241m.\u001b[39mget(\u001b[38;5;124m\"\u001b[39m\u001b[38;5;124mdate\u001b[39m\u001b[38;5;124m\"\u001b[39m, \u001b[38;5;124m\"\u001b[39m\u001b[38;5;124mNo Commits Found\u001b[39m\u001b[38;5;124m\"\u001b[39m)\n\u001b[1;32m     32\u001b[0m     timestamp \u001b[38;5;241m=\u001b[39m \u001b[38;5;28mint\u001b[39m(datetime\u001b[38;5;241m.\u001b[39mdatetime\u001b[38;5;241m.\u001b[39mstrptime(first_commit_date, \u001b[38;5;124m\"\u001b[39m\u001b[38;5;124m%\u001b[39m\u001b[38;5;124mY-\u001b[39m\u001b[38;5;124m%\u001b[39m\u001b[38;5;124mm-\u001b[39m\u001b[38;5;132;01m%d\u001b[39;00m\u001b[38;5;124mT\u001b[39m\u001b[38;5;124m%\u001b[39m\u001b[38;5;124mH:\u001b[39m\u001b[38;5;124m%\u001b[39m\u001b[38;5;124mM:\u001b[39m\u001b[38;5;124m%\u001b[39m\u001b[38;5;124mSZ\u001b[39m\u001b[38;5;124m\"\u001b[39m)\u001b[38;5;241m.\u001b[39mtimestamp() \u001b[38;5;241m*\u001b[39m \u001b[38;5;241m1000\u001b[39m) \u001b[38;5;28;01mif\u001b[39;00m first_commit_date \u001b[38;5;241m!=\u001b[39m \u001b[38;5;124m\"\u001b[39m\u001b[38;5;124mNo Commits Found\u001b[39m\u001b[38;5;124m\"\u001b[39m \u001b[38;5;28;01melse\u001b[39;00m \u001b[38;5;124m\"\u001b[39m\u001b[38;5;124mNo Commits Found\u001b[39m\u001b[38;5;124m\"\u001b[39m\n\u001b[1;32m     34\u001b[0m \u001b[38;5;28;01mreturn\u001b[39;00m license_info, release_info, timestamp\n",
      "\u001b[0;31mKeyError\u001b[0m: 0"
     ]
    }
   ],
   "source": [
    "import requests\n",
    "import re\n",
    "import datetime\n",
    "\n",
    "def get_github_repo_info(repo_url):\n",
    "    match = re.match(r\"https://github.com/([^/]+)/([^/]+)\", repo_url)\n",
    "    if not match:\n",
    "        return \"Invalid GitHub URL\", \"Invalid GitHub URL\"\n",
    "    \n",
    "    owner, repo = match.groups()\n",
    "    base_url = f\"https://api.github.com/repos/{owner}/{repo}\"\n",
    "    \n",
    "    # Get License Information\n",
    "    license_url = f\"{base_url}/license\"\n",
    "    license_response = requests.get(license_url)\n",
    "    license_info = license_response.json().get(\"license\", {}).get(\"spdx_id\", \"Not Found\")\n",
    "    \n",
    "    # Get Latest Release Version and Date\n",
    "    releases_url = f\"{base_url}/releases/latest\"\n",
    "    release_response = requests.get(releases_url)\n",
    "    release_data = release_response.json()\n",
    "    release_info = release_data.get(\"tag_name\")\n",
    "    release_date = release_data.get(\"published_at\")\n",
    "    \n",
    "    if release_date:\n",
    "        timestamp = int(datetime.datetime.strptime(release_date, \"%Y-%m-%dT%H:%M:%SZ\").timestamp() * 1000)\n",
    "    else:\n",
    "        # Get First Commit Date\n",
    "        commits_url = f\"{base_url}/commits?per_page=1&page=1\"\n",
    "        commits_response = requests.get(commits_url)\n",
    "        first_commit_date = commits_response.json()[0].get(\"commit\", {}).get(\"author\", {}).get(\"date\", \"No Commits Found\")\n",
    "        timestamp = int(datetime.datetime.strptime(first_commit_date, \"%Y-%m-%dT%H:%M:%SZ\").timestamp() * 1000) if first_commit_date != \"No Commits Found\" else \"No Commits Found\"\n",
    "    \n",
    "    return license_info, release_info, timestamp\n",
    "\n",
    "if __name__ == \"__main__\":\n",
    "    repo_url = \"https://github.com/microsoft/XamlBehaviors\"\n",
    "    \n",
    "    license_info, version_or_commit, timestamp = get_github_repo_info(repo_url)\n",
    "    \n",
    "    print(f\"License: {license_info}\")\n",
    "    print(f\"Latest Release Version / First Commit Date: {version_or_commit}\")\n",
    "    print(f\"Timestamp: {timestamp}\")\n"
   ]
  },
  {
   "cell_type": "code",
   "execution_count": 23,
   "metadata": {},
   "outputs": [
    {
     "name": "stdout",
     "output_type": "stream",
     "text": [
      "License: Not Found\n",
      "Latest Release Version / Last Commit Date: None\n",
      "Timestamp: Error fetching last commit date: 403 Client Error: rate limit exceeded for url: https://api.github.com/repos/microsoft/XamlBehaviors/commits?per_page=1&page=1\n"
     ]
    }
   ],
   "source": [
    "from datetime import datetime\n",
    "\n",
    "def get_github_repo_info(repo_url):\n",
    "    match = re.match(r\"https://github.com/([^/]+)/([^/]+)\", repo_url)\n",
    "    if not match:\n",
    "        return \"Invalid GitHub URL\", \"Invalid GitHub URL\"\n",
    "    \n",
    "    owner, repo = match.groups()\n",
    "    base_url = f\"https://api.github.com/repos/{owner}/{repo}\"\n",
    "    \n",
    "    # Get License Information\n",
    "    license_url = f\"{base_url}/license\"\n",
    "    license_response = requests.get(license_url)\n",
    "    license_info = license_response.json().get(\"license\", {}).get(\"spdx_id\", \"Not Found\")\n",
    "    \n",
    "    # Get Latest Release Version and Date\n",
    "    releases_url = f\"{base_url}/releases/latest\"\n",
    "    release_response = requests.get(releases_url)\n",
    "    release_data = release_response.json()\n",
    "    release_info = release_data.get(\"tag_name\")\n",
    "    release_date = release_data.get(\"published_at\")\n",
    "    \n",
    "    if release_date:\n",
    "        timestamp = int(datetime.strptime(release_date, \"%Y-%m-%dT%H:%M:%SZ\").timestamp() * 1000)\n",
    "    else:\n",
    "        try:\n",
    "            last_commit_url = f\"{base_url}/commits?per_page=1&page=1\"\n",
    "            last_commit_response = requests.get(last_commit_url)\n",
    "            last_commit_response.raise_for_status()\n",
    "            last_commit_date = last_commit_response.json()[0].get(\"commit\", {}).get(\"author\", {}).get(\"date\", \"No Commits Found\")\n",
    "            timestamp = int(datetime.strptime(last_commit_date, \"%Y-%m-%dT%H:%M:%SZ\").timestamp() * 1000) if last_commit_date != \"No Commits Found\" else \"No Commits Found\"\n",
    "        except Exception as e:\n",
    "            timestamp = f\"Error fetching last commit date: {str(e)}\"\n",
    "    return license_info, release_info, timestamp\n",
    "\n",
    "if __name__ == \"__main__\":\n",
    "    repo_url = \"https://github.com/microsoft/XamlBehaviors\"\n",
    "    \n",
    "    license_info, version_or_commit, timestamp = get_github_repo_info(repo_url)\n",
    "    \n",
    "    print(f\"License: {license_info}\")\n",
    "    print(f\"Latest Release Version / Last Commit Date: {version_or_commit}\")\n",
    "    print(f\"Timestamp: {timestamp}\")\n"
   ]
  },
  {
   "cell_type": "code",
   "execution_count": 17,
   "metadata": {},
   "outputs": [],
   "source": [
    "import pandas as pd\n",
    "from typing import Dict\n",
    "\n",
    "License = str\n",
    "\n",
    "# Mapping different representations to a standard license name\n",
    "license_mapping = {\n",
    "    \"MIT\": \"MIT\",\n",
    "    \"MIT License\": \"MIT\",\n",
    "    \"Apache 2.0\": \"Apache-2.0\",\n",
    "    \"Apache License 2.0\": \"Apache-2.0\",\n",
    "    \"BSD 3-Clause\": \"BSD-3-Clause\",\n",
    "    \"BSD License\": \"BSD-3-Clause\",\n",
    "    \"GPL-3.0\": \"GPLv3\",\n",
    "    \"GNU General Public License v3.0\": \"GPLv3\",\n",
    "    \"LGPL-3.0\": \"LGPL-3.0\",\n",
    "    \"GNU Lesser General Public License v3.0\": \"LGPL-3.0\",\n",
    "    \"Mozilla Public License 2.0\": \"MPL-2.0\",\n",
    "}\n",
    "\n",
    "# Compatibility matrix\n",
    "compatibility_matrix: Dict[License, Dict[License, bool]] = {\n",
    "    \"MIT\": {\"MIT\": True, \"Apache-2.0\": True, \"BSD-3-Clause\": True, \"MPL-2.0\": True, \"GPLv3\": False, \"LGPL-3.0\": False},\n",
    "    \"Apache-2.0\": {\"MIT\": True, \"Apache-2.0\": True, \"BSD-3-Clause\": True, \"MPL-2.0\": True, \"GPLv3\": False, \"LGPL-3.0\": False},\n",
    "    \"BSD-3-Clause\": {\"MIT\": True, \"Apache-2.0\": True, \"BSD-3-Clause\": True, \"MPL-2.0\": True, \"GPLv3\": False, \"LGPL-3.0\": False},\n",
    "    \"MPL-2.0\": {\"MIT\": True, \"Apache-2.0\": True, \"BSD-3-Clause\": True, \"MPL-2.0\": True, \"GPLv3\": False, \"LGPL-3.0\": False},\n",
    "    \"GPLv3\": {\"MIT\": True, \"Apache-2.0\": True, \"BSD-3-Clause\": True, \"MPL-2.0\": True, \"GPLv3\": True, \"LGPL-3.0\": True},\n",
    "    \"LGPL-3.0\": {\"MIT\": True, \"Apache-2.0\": True, \"BSD-3-Clause\": True, \"MPL-2.0\": True, \"GPLv3\": True, \"LGPL-3.0\": True},\n",
    "}\n",
    "\n",
    "def normalize_license(license_name: str) -> str:\n",
    "    return license_mapping.get(license_name, license_name)  # Default to original if not found\n",
    "\n",
    "def can_reuse_code(source_license: License, target_license: License) -> bool:\n",
    "    return compatibility_matrix.get(target_license, {}).get(source_license, False)\n",
    "\n",
    "def check_license_compatibility(file):\n",
    "    df = pd.read_csv(\"../results/\"+file)\n",
    "    grouped = df.groupby(\"Hash\")\n",
    "    \n",
    "    for function_hash, group in grouped:\n",
    "        base_license = normalize_license(group.iloc[0][\"License\"])  # Normalize first row's license\n",
    "        \n",
    "        for idx, row in group.iterrows():\n",
    "            license_type = normalize_license(row[\"License\"])\n",
    "            if not can_reuse_code(base_license, license_type):\n",
    "                df.at[idx, \"Violation\"] = f\"Incompatible with {base_license}\"\n",
    "                print(f\"Incompatible licenses detected for function {function_hash}: {base_license} vs {license_type}\")\n",
    "    df.to_csv(\"../results/\"+file, index=False)\n",
    "\n",
    "# Example usage:\n",
    "# df = pd.read_csv(\"functions.csv\", delimiter='\\\\t')\n",
    "# check_license_compatibility(df)\n"
   ]
  },
  {
   "cell_type": "code",
   "execution_count": 18,
   "metadata": {},
   "outputs": [
    {
     "name": "stdout",
     "output_type": "stream",
     "text": [
      "Incompatible licenses detected for function df7107ad49047a16e035105be8d92663: MIT vs Creative Commons Attribution 4.0 International\n",
      "Incompatible licenses detected for function df7107ad49047a16e035105be8d92663: MIT vs GNU General Public License v2.0\n",
      "Incompatible licenses detected for function df7107ad49047a16e035105be8d92663: MIT vs Other\n",
      "Incompatible licenses detected for function df7107ad49047a16e035105be8d92663: MIT vs GNU General Public License v2.0\n",
      "Incompatible licenses detected for function df7107ad49047a16e035105be8d92663: MIT vs GNU General Public License v2.0\n",
      "Incompatible licenses detected for function df7107ad49047a16e035105be8d92663: MIT vs nan\n",
      "Incompatible licenses detected for function df7107ad49047a16e035105be8d92663: MIT vs nan\n",
      "Incompatible licenses detected for function df7107ad49047a16e035105be8d92663: MIT vs nan\n",
      "Incompatible licenses detected for function df7107ad49047a16e035105be8d92663: MIT vs nan\n",
      "Incompatible licenses detected for function df7107ad49047a16e035105be8d92663: MIT vs nan\n",
      "Incompatible licenses detected for function df7107ad49047a16e035105be8d92663: MIT vs nan\n",
      "Incompatible licenses detected for function df7107ad49047a16e035105be8d92663: MIT vs nan\n",
      "Incompatible licenses detected for function df7107ad49047a16e035105be8d92663: MIT vs nan\n",
      "Incompatible licenses detected for function df7107ad49047a16e035105be8d92663: MIT vs nan\n",
      "Incompatible licenses detected for function df7107ad49047a16e035105be8d92663: MIT vs nan\n",
      "Incompatible licenses detected for function df7107ad49047a16e035105be8d92663: MIT vs nan\n",
      "Incompatible licenses detected for function df7107ad49047a16e035105be8d92663: MIT vs nan\n",
      "Incompatible licenses detected for function df7107ad49047a16e035105be8d92663: MIT vs nan\n",
      "Incompatible licenses detected for function df7107ad49047a16e035105be8d92663: MIT vs nan\n",
      "Incompatible licenses detected for function df7107ad49047a16e035105be8d92663: MIT vs nan\n",
      "Incompatible licenses detected for function df7107ad49047a16e035105be8d92663: MIT vs nan\n",
      "Incompatible licenses detected for function df7107ad49047a16e035105be8d92663: MIT vs nan\n",
      "Incompatible licenses detected for function df7107ad49047a16e035105be8d92663: MIT vs nan\n",
      "Incompatible licenses detected for function df7107ad49047a16e035105be8d92663: MIT vs nan\n",
      "Incompatible licenses detected for function df7107ad49047a16e035105be8d92663: MIT vs nan\n",
      "Incompatible licenses detected for function df7107ad49047a16e035105be8d92663: MIT vs nan\n",
      "Incompatible licenses detected for function df7107ad49047a16e035105be8d92663: MIT vs nan\n",
      "Incompatible licenses detected for function df7107ad49047a16e035105be8d92663: MIT vs nan\n",
      "Incompatible licenses detected for function df7107ad49047a16e035105be8d92663: MIT vs nan\n",
      "Incompatible licenses detected for function df7107ad49047a16e035105be8d92663: MIT vs nan\n",
      "Incompatible licenses detected for function df7107ad49047a16e035105be8d92663: MIT vs nan\n",
      "Incompatible licenses detected for function df7107ad49047a16e035105be8d92663: MIT vs nan\n",
      "Incompatible licenses detected for function df7107ad49047a16e035105be8d92663: MIT vs nan\n",
      "Incompatible licenses detected for function df7107ad49047a16e035105be8d92663: MIT vs -\n",
      "Incompatible licenses detected for function df7107ad49047a16e035105be8d92663: MIT vs -\n",
      "Incompatible licenses detected for function df7107ad49047a16e035105be8d92663: MIT vs -\n",
      "Incompatible licenses detected for function df7107ad49047a16e035105be8d92663: MIT vs -\n",
      "Incompatible licenses detected for function df7107ad49047a16e035105be8d92663: MIT vs -\n",
      "Incompatible licenses detected for function df7107ad49047a16e035105be8d92663: MIT vs -\n",
      "Incompatible licenses detected for function df7107ad49047a16e035105be8d92663: MIT vs -\n",
      "Incompatible licenses detected for function df7107ad49047a16e035105be8d92663: MIT vs -\n",
      "Incompatible licenses detected for function df7107ad49047a16e035105be8d92663: MIT vs -\n",
      "Incompatible licenses detected for function df7107ad49047a16e035105be8d92663: MIT vs -\n",
      "Incompatible licenses detected for function df7107ad49047a16e035105be8d92663: MIT vs -\n",
      "Incompatible licenses detected for function df7107ad49047a16e035105be8d92663: MIT vs -\n",
      "Incompatible licenses detected for function df7107ad49047a16e035105be8d92663: MIT vs -\n",
      "Incompatible licenses detected for function df7107ad49047a16e035105be8d92663: MIT vs -\n",
      "Incompatible licenses detected for function df7107ad49047a16e035105be8d92663: MIT vs -\n",
      "Incompatible licenses detected for function df7107ad49047a16e035105be8d92663: MIT vs -\n",
      "Incompatible licenses detected for function df7107ad49047a16e035105be8d92663: MIT vs -\n",
      "Incompatible licenses detected for function df7107ad49047a16e035105be8d92663: MIT vs -\n",
      "Incompatible licenses detected for function df7107ad49047a16e035105be8d92663: MIT vs -\n",
      "Incompatible licenses detected for function df7107ad49047a16e035105be8d92663: MIT vs -\n",
      "Incompatible licenses detected for function df7107ad49047a16e035105be8d92663: MIT vs -\n",
      "Incompatible licenses detected for function df7107ad49047a16e035105be8d92663: MIT vs -\n",
      "Incompatible licenses detected for function df7107ad49047a16e035105be8d92663: MIT vs -\n",
      "Incompatible licenses detected for function df7107ad49047a16e035105be8d92663: MIT vs -\n",
      "Incompatible licenses detected for function df7107ad49047a16e035105be8d92663: MIT vs -\n",
      "Incompatible licenses detected for function df7107ad49047a16e035105be8d92663: MIT vs -\n",
      "Incompatible licenses detected for function df7107ad49047a16e035105be8d92663: MIT vs -\n",
      "Incompatible licenses detected for function df7107ad49047a16e035105be8d92663: MIT vs -\n",
      "Incompatible licenses detected for function df7107ad49047a16e035105be8d92663: MIT vs -\n",
      "Incompatible licenses detected for function df7107ad49047a16e035105be8d92663: MIT vs -\n",
      "Incompatible licenses detected for function df7107ad49047a16e035105be8d92663: MIT vs MIT No Attribution\n",
      "Incompatible licenses detected for function df7107ad49047a16e035105be8d92663: MIT vs Creative Commons Attribution 4.0 International\n",
      "Incompatible licenses detected for function df7107ad49047a16e035105be8d92663: MIT vs Creative Commons Attribution 4.0 International\n",
      "Incompatible licenses detected for function df7107ad49047a16e035105be8d92663: MIT vs Creative Commons Attribution 4.0 International\n",
      "Incompatible licenses detected for function df7107ad49047a16e035105be8d92663: MIT vs Creative Commons Attribution 4.0 International\n",
      "Incompatible licenses detected for function df7107ad49047a16e035105be8d92663: MIT vs Creative Commons Attribution 4.0 International\n",
      "Incompatible licenses detected for function df7107ad49047a16e035105be8d92663: MIT vs Creative Commons Attribution 4.0 International\n",
      "Incompatible licenses detected for function df7107ad49047a16e035105be8d92663: MIT vs Creative Commons Attribution 4.0 International\n",
      "Incompatible licenses detected for function df7107ad49047a16e035105be8d92663: MIT vs Creative Commons Attribution 4.0 International\n",
      "Incompatible licenses detected for function df7107ad49047a16e035105be8d92663: MIT vs Creative Commons Attribution 4.0 International\n",
      "Incompatible licenses detected for function df7107ad49047a16e035105be8d92663: MIT vs Creative Commons Attribution 4.0 International\n",
      "Incompatible licenses detected for function df7107ad49047a16e035105be8d92663: MIT vs Creative Commons Attribution 4.0 International\n",
      "Incompatible licenses detected for function df7107ad49047a16e035105be8d92663: MIT vs Creative Commons Attribution 4.0 International\n",
      "Incompatible licenses detected for function df7107ad49047a16e035105be8d92663: MIT vs Creative Commons Attribution 4.0 International\n",
      "Incompatible licenses detected for function df7107ad49047a16e035105be8d92663: MIT vs Creative Commons Attribution 4.0 International\n",
      "Incompatible licenses detected for function df7107ad49047a16e035105be8d92663: MIT vs Creative Commons Attribution 4.0 International\n",
      "Incompatible licenses detected for function df7107ad49047a16e035105be8d92663: MIT vs Creative Commons Attribution 4.0 International\n",
      "Incompatible licenses detected for function df7107ad49047a16e035105be8d92663: MIT vs Creative Commons Attribution 4.0 International\n",
      "Incompatible licenses detected for function df7107ad49047a16e035105be8d92663: MIT vs Creative Commons Attribution 4.0 International\n",
      "Incompatible licenses detected for function df7107ad49047a16e035105be8d92663: MIT vs Creative Commons Attribution 4.0 International\n",
      "Incompatible licenses detected for function df7107ad49047a16e035105be8d92663: MIT vs Creative Commons Attribution 4.0 International\n",
      "Incompatible licenses detected for function df7107ad49047a16e035105be8d92663: MIT vs Creative Commons Attribution 4.0 International\n",
      "Incompatible licenses detected for function df7107ad49047a16e035105be8d92663: MIT vs BSD 3-Clause \"New\" or \"Revised\" License\n",
      "Incompatible licenses detected for function df7107ad49047a16e035105be8d92663: MIT vs nan\n",
      "Incompatible licenses detected for function df7107ad49047a16e035105be8d92663: MIT vs Other\n"
     ]
    }
   ],
   "source": [
    "check_license_compatibility(\"microsoft_XamlBehaviors_matches_20250221_114949.csv\")"
   ]
  },
  {
   "cell_type": "code",
   "execution_count": 26,
   "metadata": {},
   "outputs": [],
   "source": [
    "\n",
    "def get_github_repo_info(repo_url):\n",
    "    match = re.match(r\"https://github.com/([^/]+)/([^/]+)\", repo_url)\n",
    "    if not match:\n",
    "        return \"Invalid GitHub URL\", \"Invalid GitHub URL\"\n",
    "    \n",
    "    owner, repo = match.groups()\n",
    "    base_url = f\"https://api.github.com/repos/{owner}/{repo}\"\n",
    "    \n",
    "    # Get License Information\n",
    "    license_url = f\"{base_url}/license\"\n",
    "    license_response = requests.get(license_url)\n",
    "    license_info = license_response.json().get(\"license\", {}).get(\"spdx_id\", \"Not Found\")\n",
    "    \n",
    "    # Get Latest Release Version and Date\n",
    "    releases_url = f\"{base_url}/releases/latest\"\n",
    "    release_response = requests.get(releases_url)\n",
    "    release_data = release_response.json()\n",
    "    release_info = release_data.get(\"tag_name\")\n",
    "    release_date = release_data.get(\"published_at\")\n",
    "    \n",
    "    if release_date:\n",
    "        timestamp = int(datetime.strptime(release_date, \"%Y-%m-%dT%H:%M:%SZ\").timestamp() * 1000)\n",
    "    else:\n",
    "        try:\n",
    "            last_commit_url = f\"{base_url}/commits?per_page=1&page=1\"\n",
    "            last_commit_response = requests.get(last_commit_url)\n",
    "            last_commit_response.raise_for_status()\n",
    "            last_commit_date = last_commit_response.json()[0].get(\"commit\", {}).get(\"author\", {}).get(\"date\", \"No Commits Found\")\n",
    "            timestamp = int(datetime.strptime(last_commit_date, \"%Y-%m-%dT%H:%M:%SZ\").timestamp() * 1000) if last_commit_date != \"No Commits Found\" else \"No Commits Found\"\n",
    "        except Exception as e:\n",
    "            timestamp = f\"Error fetching last commit date: {str(e)}\"\n",
    "    return license_info, release_info, timestamp"
   ]
  },
  {
   "cell_type": "code",
   "execution_count": 27,
   "metadata": {},
   "outputs": [
    {
     "name": "stdout",
     "output_type": "stream",
     "text": [
      "project release info: Not Found, None, Error fetching last commit date: 403 Client Error: rate limit exceeded for url: https://api.github.com/repos/microsoft/XamlBehaviors/commits?per_page=1&page=1\n"
     ]
    }
   ],
   "source": [
    "repo_url = \"https://github.com/microsoft/XamlBehaviors\"\n",
    "project_license, release_info, project_version = get_github_repo_info(repo_url)\n",
    "print(\"project release info: {}, {}, {}\".format(project_license, release_info, project_version))"
   ]
  },
  {
   "cell_type": "code",
   "execution_count": 29,
   "metadata": {},
   "outputs": [],
   "source": [
    "def get_github_repo_info(repo_url, github_token=None):\n",
    "    match = re.match(r\"https://github.com/([^/]+)/([^/]+)\", repo_url)\n",
    "    if not match:\n",
    "        return \"Invalid GitHub URL\", \"Invalid GitHub URL\", \"Invalid GitHub URL\"\n",
    "    \n",
    "    owner, repo = match.groups()\n",
    "    base_url = f\"https://api.github.com/repos/{owner}/{repo}\"\n",
    "    headers = {\"Accept\": \"application/vnd.github.v3+json\"}\n",
    "    \n",
    "    if github_token:\n",
    "        headers[\"Authorization\"] = f\"token {github_token}\"\n",
    "    \n",
    "    try:\n",
    "        # Get License Information\n",
    "        license_url = f\"{base_url}/license\"\n",
    "        license_response = requests.get(license_url, headers=headers)\n",
    "        license_info = license_response.json().get(\"license\", {}).get(\"spdx_id\", \"Not Found\")\n",
    "        \n",
    "        # Get Latest Release Version and Date\n",
    "        releases_url = f\"{base_url}/releases/latest\"\n",
    "        release_response = requests.get(releases_url, headers=headers)\n",
    "        if release_response.status_code == 200:\n",
    "            release_data = release_response.json()\n",
    "            release_info = release_data.get(\"tag_name\", \"No Releases Found\")\n",
    "            release_date = release_data.get(\"published_at\")\n",
    "        else:\n",
    "            release_info = \"No Releases Found\"\n",
    "            release_date = None\n",
    "        \n",
    "        if release_date:\n",
    "            timestamp = int(datetime.strptime(release_date, \"%Y-%m-%dT%H:%M:%SZ\").timestamp() * 1000)\n",
    "        else:\n",
    "            # Fetch last commit date if no releases exist\n",
    "            last_commit_url = f\"{base_url}/commits?per_page=1&page=1\"\n",
    "            last_commit_response = requests.get(last_commit_url, headers=headers)\n",
    "            last_commit_response.raise_for_status()\n",
    "            last_commit_data = last_commit_response.json()\n",
    "            if last_commit_data:\n",
    "                last_commit_date = last_commit_data[0].get(\"commit\", {}).get(\"author\", {}).get(\"date\", \"No Commits Found\")\n",
    "                timestamp = int(datetime.strptime(last_commit_date, \"%Y-%m-%dT%H:%M:%SZ\").timestamp() * 1000) if last_commit_date != \"No Commits Found\" else \"No Commits Found\"\n",
    "            else:\n",
    "                timestamp = \"No Commits Found\"\n",
    "        \n",
    "    except requests.exceptions.RequestException as e:\n",
    "        return \"Error fetching data\", \"Error fetching data\", f\"Error: {str(e)}\"\n",
    "    \n",
    "    return license_info, release_info, timestamp\n"
   ]
  },
  {
   "cell_type": "code",
   "execution_count": null,
   "metadata": {},
   "outputs": [],
   "source": [
    "get_github_repo_info(repo_url, github_token=None)"
   ]
  },
  {
   "cell_type": "code",
   "execution_count": null,
   "metadata": {},
   "outputs": [
    {
     "name": "stdout",
     "output_type": "stream",
     "text": [
      "project release info: MIT, v2.0.9, 1664464135000\n"
     ]
    }
   ],
   "source": [
    "repo_url = \"https://github.com/microsoft/XamlBehaviors\"\n",
    "project_license, release_info, project_version = get_github_repo_info(repo_url, github_token=\"\")\n",
    "print(\"project release info: {}, {}, {}\".format(project_license, release_info, project_version))"
   ]
  },
  {
   "cell_type": "code",
   "execution_count": 31,
   "metadata": {},
   "outputs": [],
   "source": [
    "import pandas as pd\n",
    "from itertools import combinations\n",
    "\n",
    "# Load CSV file\n",
    "\n",
    "# Normalize license names (adjust as needed)\n",
    "license_mapping = {\n",
    "    \"MIT\": \"MIT\",\n",
    "    \"MIT License\": \"MIT\",\n",
    "    \"Apache 2.0\": \"Apache-2.0\",\n",
    "    \"Apache License 2.0\": \"Apache-2.0\",\n",
    "    \"BSD 3-Clause\": \"BSD-3-Clause\",\n",
    "    \"BSD License\": \"BSD-3-Clause\",\n",
    "    \"GPL-3.0\": \"GPLv3\",\n",
    "    \"GNU General Public License v3.0\": \"GPLv3\",\n",
    "    \"LGPL-3.0\": \"LGPL-3.0\",\n",
    "    \"GNU Lesser General Public License v3.0\": \"LGPL-3.0\",\n",
    "    \"Mozilla Public License 2.0\": \"MPL-2.0\",\n",
    "}\n",
    "\n",
    "compatibility_matrix = {\n",
    "    \"MIT\": {\"MIT\": True, \"Apache-2.0\": True, \"BSD-3-Clause\": True, \"MPL-2.0\": True, \"GPLv3\": False, \"LGPL-3.0\": False},\n",
    "    \"Apache-2.0\": {\"MIT\": True, \"Apache-2.0\": True, \"BSD-3-Clause\": True, \"MPL-2.0\": True, \"GPLv3\": False, \"LGPL-3.0\": False},\n",
    "    \"BSD-3-Clause\": {\"MIT\": True, \"Apache-2.0\": True, \"BSD-3-Clause\": True, \"MPL-2.0\": True, \"GPLv3\": False, \"LGPL-3.0\": False},\n",
    "    \"MPL-2.0\": {\"MIT\": True, \"Apache-2.0\": True, \"BSD-3-Clause\": True, \"MPL-2.0\": True, \"GPLv3\": False, \"LGPL-3.0\": False},\n",
    "    \"GPLv3\": {\"MIT\": True, \"Apache-2.0\": True, \"BSD-3-Clause\": True, \"MPL-2.0\": True, \"GPLv3\": True, \"LGPL-3.0\": True},\n",
    "    \"LGPL-3.0\": {\"MIT\": True, \"Apache-2.0\": True, \"BSD-3-Clause\": True, \"MPL-2.0\": True, \"GPLv3\": True, \"LGPL-3.0\": True},\n",
    "}\n",
    "\n",
    "def normalize_license(license_name):\n",
    "    return license_mapping.get(license_name, license_name)\n",
    "\n",
    "def can_reuse_code(source_license, target_license):\n",
    "    return compatibility_matrix.get(target_license, {}).get(source_license, False)\n",
    "\n",
    "def check_license_compatibility(file):\n",
    "    df = pd.read_csv(\"../results/\"+file)\n",
    "    # Create a mapping of Project ID to function hashes\n",
    "    project_hashes = df.groupby(\"Project ID\")[\"Hash\"].apply(set).to_dict()\n",
    "\n",
    "    # Store common hashes & their incompatibility details\n",
    "    commonality = {}\n",
    "\n",
    "    for (proj1, hashes1), (proj2, hashes2) in combinations(project_hashes.items(), 2):\n",
    "        common_hashes = hashes1.intersection(hashes2)  # Find common function hashes\n",
    "        if common_hashes:\n",
    "            violations = []  # List of incompatible function hashes\n",
    "\n",
    "            for h in common_hashes:\n",
    "                subset = df[df[\"Hash\"] == h]\n",
    "                licenses = subset[\"License\"].dropna().unique()\n",
    "                normalized_licenses = [normalize_license(lic) for lic in licenses]\n",
    "\n",
    "                # Compare licenses for incompatibility\n",
    "                base_license = normalized_licenses[0]\n",
    "                for lic in normalized_licenses[1:]:\n",
    "                    if not can_reuse_code(base_license, lic):\n",
    "                        violations.append(h)  # Record the incompatible hash\n",
    "\n",
    "            commonality[(proj1, proj2)] = (len(common_hashes), common_hashes, violations)\n",
    "\n",
    "    # Find the pair with the maximum commonality\n",
    "    max_pair = max(commonality, key=lambda k: commonality[k][0])\n",
    "    max_common_count, max_common_hashes, max_violations = commonality[max_pair]\n",
    "\n",
    "    # Print results\n",
    "    print(f\"Maximum common hashes are between Project ID {max_pair[0]} and {max_pair[1]} with {max_common_count} common hashes.\")\n",
    "    print(\"Common Hash Values:\")\n",
    "    print(max_common_hashes)\n",
    "\n",
    "    if max_violations:\n",
    "        print(f\"License Violations Found: {len(max_violations)}\")\n",
    "        print(\"Incompatible Hashes:\")\n",
    "        print(max_violations)\n",
    "    else:\n",
    "        print(\"No license violations found.\")"
   ]
  },
  {
   "cell_type": "code",
   "execution_count": 34,
   "metadata": {},
   "outputs": [
    {
     "name": "stdout",
     "output_type": "stream",
     "text": [
      "Maximum common hashes are between Project ID 68274166 and 364552135 with 1 common hashes.\n",
      "Common Hash Values:\n",
      "{'33ed15cbb449563cea8d7b7465f14a37'}\n",
      "License Violations Found: 1\n",
      "Incompatible Hashes:\n",
      "['33ed15cbb449563cea8d7b7465f14a37']\n"
     ]
    }
   ],
   "source": [
    "check_license_compatibility(\"microsoft_Vipr_matches_20250221_144429.csv\")"
   ]
  },
  {
   "cell_type": "code",
   "execution_count": 9,
   "metadata": {},
   "outputs": [],
   "source": [
    "import psycopg2\n",
    "def get_db_repos():\n",
    "\n",
    "    # Database connection details\n",
    "    DB_NAME = \"github_repos\"\n",
    "    DB_USER = \"postgres\"\n",
    "    DB_PASSWORD = \"Sphings@19\"\n",
    "    DB_HOST = \"localhost\"\n",
    "    DB_PORT = \"5432\"\n",
    "\n",
    "    # Connect to PostgreSQL\n",
    "    conn = psycopg2.connect(\n",
    "        dbname=DB_NAME,\n",
    "        user=DB_USER,\n",
    "        password=DB_PASSWORD,\n",
    "        host=DB_HOST,\n",
    "        port=DB_PORT\n",
    "    )\n",
    "\n",
    "    return conn"
   ]
  },
  {
   "cell_type": "code",
   "execution_count": 14,
   "metadata": {},
   "outputs": [],
   "source": [
    "conn = get_db_repos()\n",
    "cur = conn.cursor()\n",
    "cur.execute(\"SELECT _id, link, license, language, licenseconflicts, is_active, project_id FROM repositories WHERE is_active = False AND project_id IS NOT NULL;\")\n",
    "repos = cur.fetchall()\n",
    "cur.close()\n",
    "conn.close()"
   ]
  },
  {
   "cell_type": "code",
   "execution_count": 15,
   "metadata": {},
   "outputs": [
    {
     "data": {
      "text/plain": [
       "7"
      ]
     },
     "execution_count": 15,
     "metadata": {},
     "output_type": "execute_result"
    }
   ],
   "source": [
    "len(repos)"
   ]
  },
  {
   "cell_type": "code",
   "execution_count": 16,
   "metadata": {},
   "outputs": [
    {
     "data": {
      "text/plain": [
       "[('6468511713df3d68492c5cc7',\n",
       "  'https://github.com/microsoft/ADBench',\n",
       "  'MIT License',\n",
       "  'C++',\n",
       "  23,\n",
       "  False,\n",
       "  '2123296535'),\n",
       " ('6468610e13df3d68492c5d0d',\n",
       "  'https://github.com/microsoft/jschema',\n",
       "  'Apache License 2.0',\n",
       "  'C#',\n",
       "  7,\n",
       "  False,\n",
       "  '432250571'),\n",
       " ('64684d9813df3d68492c5cae',\n",
       "  'https://github.com/facebook/buck2',\n",
       "  'Apache License 2.0',\n",
       "  'Rust',\n",
       "  1,\n",
       "  False,\n",
       "  '113592587'),\n",
       " ('64685d3f13df3d68492c5ce3',\n",
       "  'https://github.com/google/archive-patcher',\n",
       "  'Apache License 2.0',\n",
       "  'Java',\n",
       "  107,\n",
       "  False,\n",
       "  '1021563538'),\n",
       " ('6468602213df3d68492c5cf7',\n",
       "  'https://github.com/google/openhtf',\n",
       "  'Apache License 2.0',\n",
       "  'Python',\n",
       "  41,\n",
       "  False,\n",
       "  '3395271642'),\n",
       " ('6468605b13df3d68492c5cfd',\n",
       "  'https://github.com/microsoft/azure-pipelines-extensions',\n",
       "  'MIT License',\n",
       "  'PowerShell',\n",
       "  5,\n",
       "  False,\n",
       "  '1517599191'),\n",
       " ('64685e1b13df3d68492c5cf1',\n",
       "  'https://github.com/google/capirca',\n",
       "  'Apache License 2.0',\n",
       "  'Python',\n",
       "  64,\n",
       "  False,\n",
       "  '685558230')]"
      ]
     },
     "execution_count": 16,
     "metadata": {},
     "output_type": "execute_result"
    }
   ],
   "source": [
    "repos"
   ]
  },
  {
   "cell_type": "code",
   "execution_count": null,
   "metadata": {},
   "outputs": [],
   "source": []
  },
  {
   "cell_type": "code",
   "execution_count": 17,
   "metadata": {},
   "outputs": [
    {
     "name": "stdout",
     "output_type": "stream",
     "text": [
      "Moved 4 CSV files to ../results/20250302_172928\n"
     ]
    }
   ],
   "source": [
    "import os\n",
    "import glob\n",
    "import shutil\n",
    "from datetime import datetime\n",
    "\n",
    "# Get current timestamp in YYYYMMDD_HHMMSS format\n",
    "timestamp = datetime.now().strftime(\"%Y%m%d_%H%M%S\")\n",
    "\n",
    "# Define the results folder and new timestamped folder\n",
    "results_folder = \"../results\"\n",
    "timestamped_folder = os.path.join(results_folder, timestamp)\n",
    "\n",
    "# Create the timestamped folder\n",
    "os.makedirs(timestamped_folder, exist_ok=True)\n",
    "\n",
    "# Find all CSV files in the results folder\n",
    "csv_files = glob.glob(os.path.join(results_folder, \"*.csv\"))\n",
    "\n",
    "# Move each CSV file into the new timestamped folder\n",
    "for file in csv_files:\n",
    "    shutil.move(file, timestamped_folder)\n",
    "\n",
    "print(f\"Moved {len(csv_files)} CSV files to {timestamped_folder}\")\n"
   ]
  },
  {
   "cell_type": "code",
   "execution_count": null,
   "metadata": {},
   "outputs": [],
   "source": []
  }
 ],
 "metadata": {
  "kernelspec": {
   "display_name": "rnd",
   "language": "python",
   "name": "python3"
  },
  "language_info": {
   "codemirror_mode": {
    "name": "ipython",
    "version": 3
   },
   "file_extension": ".py",
   "mimetype": "text/x-python",
   "name": "python",
   "nbconvert_exporter": "python",
   "pygments_lexer": "ipython3",
   "version": "3.12.3"
  }
 },
 "nbformat": 4,
 "nbformat_minor": 2
}
